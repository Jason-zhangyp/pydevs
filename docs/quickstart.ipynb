{
 "metadata": {
  "name": "",
  "signature": "sha256:3e50fccf2b812ca6f321d6aaff55b80836b9162c7393077bef8b8461ddb0a81e"
 },
 "nbformat": 3,
 "nbformat_minor": 0,
 "worksheets": [
  {
   "cells": [
    {
     "cell_type": "markdown",
     "metadata": {},
     "source": [
      "# pydevs Quickstart"
     ]
    },
    {
     "cell_type": "code",
     "collapsed": false,
     "input": [
      "import logging\n",
      "import devs"
     ],
     "language": "python",
     "metadata": {},
     "outputs": [],
     "prompt_number": 1
    },
    {
     "cell_type": "code",
     "collapsed": false,
     "input": [
      "logger = logging.getLogger('quickstart')\n",
      "logger.setLevel(logging.DEBUG)\n",
      "#logging.getLogger('devs').setLevel(logging.WARNING)"
     ],
     "language": "python",
     "metadata": {},
     "outputs": [],
     "prompt_number": 2
    },
    {
     "cell_type": "markdown",
     "metadata": {},
     "source": [
      "## A Source -- Processor -- Observer model (M/M/1 Queue)"
     ]
    },
    {
     "cell_type": "code",
     "collapsed": false,
     "input": [
      "import collections\n",
      "import random"
     ],
     "language": "python",
     "metadata": {},
     "outputs": [],
     "prompt_number": 3
    },
    {
     "cell_type": "code",
     "collapsed": false,
     "input": [
      "class Source(devs.AtomicBase):\n",
      "    arrival_port = 0\n",
      "    \n",
      "    def __init__(self, arrival_rate=1.0, **kwds):\n",
      "        super().__init__(**kwds)\n",
      "        self.logger = logging.getLogger('quickstart.Source')\n",
      "        self.logger.info('Initialize source with arrival rate {}'.format(arrival_rate))\n",
      "        self.arrival_rate = arrival_rate\n",
      "        self.inter_arrival_time = random.expovariate(self.arrival_rate)\n",
      "        self.job_id = 0\n",
      "        \n",
      "    def ta(self):\n",
      "        self.logger.debug('Next arrival in {} time units'.format(self.inter_arrival_time))                \n",
      "        return self.inter_arrival_time\n",
      "    \n",
      "    def delta_int(self):\n",
      "        self.job_id += 1\n",
      "        self.inter_arrival_time = random.expovariate(self.arrival_rate)\n",
      "        \n",
      "    def output_func(self):\n",
      "        self.logger.info('Generate job {}'.format(self.job_id))\n",
      "        return self.arrival_port, self.job_id\n",
      "    \n",
      "    \n",
      "class Server(devs.AtomicBase):\n",
      "    arrival_port = 0\n",
      "    departure_port = 1\n",
      "    \n",
      "    def __init__(self, service_rate=1.0, **kwds):\n",
      "        super().__init__(**kwds)\n",
      "        self.logger = logging.getLogger('quickstart.Server')\n",
      "        self.logger.info('Initialize server with service rate {}'.format(service_rate))\n",
      "        self.service_rate = service_rate\n",
      "        self.remaining_service_time = devs.infinity\n",
      "        self.queue = collections.deque()\n",
      "        self.job_in_service = None\n",
      "        \n",
      "    def ta(self):\n",
      "        if self.job_in_service is None:\n",
      "            self.logger.debug('Server is idle')\n",
      "            return devs.infinity\n",
      "            \n",
      "        return self.remaining_service_time\n",
      "    \n",
      "    def start_next_job(self):\n",
      "        self.job_in_service = self.queue.popleft()\n",
      "        self.remaining_service_time = random.expovariate(self.service_rate)\n",
      "        self.logger.info('Start processing job {} with service time {}'.format(self.job_in_service, self.remaining_service_time))\n",
      "        \n",
      "    def delta_int(self):\n",
      "        # service finished\n",
      "        self.logger.info('Finished processing job {}'.format(self.job_in_service))\n",
      "        if len(self.queue):\n",
      "            # jobs waiting, start to process immediately\n",
      "            self.start_next_job()\n",
      "        else:\n",
      "            # no more jobs, switch to idle\n",
      "            self.logger.info('Queue empty, server turns idle')\n",
      "            self.job_in_service = None\n",
      "\n",
      "    def delta_ext(self, e, xb):\n",
      "        if self.job_in_service is not None:\n",
      "            self.remaining_service_time -= e\n",
      "            \n",
      "        # new job(s) arriving\n",
      "        for port, job_id in xb:\n",
      "            self.logger.info('New job {} arrives'.format(job_id))\n",
      "            self.queue.append(job_id)\n",
      "            if self.job_in_service is None:\n",
      "                # queue empty, start immediately\n",
      "                self.start_next_job()\n",
      "            else:\n",
      "                # server busy\n",
      "                self.logger.debug('Server busy, enqueueing job {}'.format(job_id))\n",
      "\n",
      "        self.logger.debug('Remaining service time for job {}: {} time units'.format(self.job_in_service, self.remaining_service_time))            \n",
      "                \n",
      "    def delta_conf(xb):\n",
      "        # treat incoming jobs first\n",
      "        self.delta_ext(self.ta(), xb)\n",
      "        self.delta_int()\n",
      "        \n",
      "    def output_func(self):\n",
      "        # service finished\n",
      "        return self.departure_port, self.job_in_service\n",
      "    \n",
      "    \n",
      "class Observer(devs.AtomicBase):\n",
      "    arrival_port = 0\n",
      "    departure_port = 1\n",
      "    \n",
      "    def __init__(self, time=0.0, **kwds):\n",
      "        super().__init__(**kwds)\n",
      "        self.logger = logging.getLogger('quickstart.Observer')\n",
      "        self.logger.info('Initialize observer at time {}'.format(time))\n",
      "        self.time = time\n",
      "        self.arrivals = list()\n",
      "        self.departures = list()\n",
      "        \n",
      "    def delta_ext(self, e, xb):\n",
      "        self.time += e\n",
      "        for port, job_id in xb:\n",
      "            if port == self.arrival_port:\n",
      "                self.logger.info('Job {} arrives at time {}'.format(job_id, self.time))\n",
      "                self.arrivals.append(self.time)\n",
      "            elif port == self.departure_port:\n",
      "                self.logger.info('Job {} departs at time {}'.format(job_id, self.time))\n",
      "                self.departures.append(self.time)"
     ],
     "language": "python",
     "metadata": {},
     "outputs": [],
     "prompt_number": 4
    },
    {
     "cell_type": "code",
     "collapsed": false,
     "input": [
      "source = Source(1.0)\n",
      "server = Server(1.0)\n",
      "observer = Observer()"
     ],
     "language": "python",
     "metadata": {},
     "outputs": [
      {
       "output_type": "stream",
       "stream": "stderr",
       "text": [
        "INFO:quickstart.Source:Initialize source with arrival rate 1.0\n"
       ]
      },
      {
       "output_type": "stream",
       "stream": "stderr",
       "text": [
        "INFO:quickstart.Server:Initialize server with service rate 1.0\n"
       ]
      },
      {
       "output_type": "stream",
       "stream": "stderr",
       "text": [
        "INFO:quickstart.Observer:Initialize observer at time 0.0\n"
       ]
      }
     ],
     "prompt_number": 5
    },
    {
     "cell_type": "code",
     "collapsed": false,
     "input": [
      "digraph = devs.Digraph()\n",
      "digraph.add(source)\n",
      "digraph.add(server)\n",
      "digraph.add(observer)\n",
      "digraph.couple(source, source.arrival_port, server, server.arrival_port)\n",
      "digraph.couple(source, source.arrival_port, observer, observer.arrival_port)\n",
      "digraph.couple(server, server.departure_port, observer, observer.departure_port)"
     ],
     "language": "python",
     "metadata": {},
     "outputs": [],
     "prompt_number": 6
    },
    {
     "cell_type": "code",
     "collapsed": false,
     "input": [
      "simulator = devs.Simulator(digraph)"
     ],
     "language": "python",
     "metadata": {},
     "outputs": [
      {
       "output_type": "stream",
       "stream": "stderr",
       "text": [
        "DEBUG:quickstart.Server:Server is idle\n"
       ]
      },
      {
       "output_type": "stream",
       "stream": "stderr",
       "text": [
        "WARNING:devs.devs.AtomicBase:ta not implemented, return devs.infinity\n"
       ]
      },
      {
       "output_type": "stream",
       "stream": "stderr",
       "text": [
        "-c:1: UserWarning: ta not implemented, return devs.infinity\n",
        "DEBUG:quickstart.Source:Next arrival in 0.1652953524349517 time units\n"
       ]
      }
     ],
     "prompt_number": 7
    },
    {
     "cell_type": "code",
     "collapsed": false,
     "input": [
      "simulator.execute_until(5.0)"
     ],
     "language": "python",
     "metadata": {},
     "outputs": [
      {
       "output_type": "stream",
       "stream": "stderr",
       "text": [
        "INFO:quickstart.Source:Generate job 0\n"
       ]
      },
      {
       "output_type": "stream",
       "stream": "stderr",
       "text": [
        "INFO:quickstart.Server:New job 0 arrives\n"
       ]
      },
      {
       "output_type": "stream",
       "stream": "stderr",
       "text": [
        "INFO:quickstart.Server:Start processing job 0 with service time 3.5509846975085804\n"
       ]
      },
      {
       "output_type": "stream",
       "stream": "stderr",
       "text": [
        "DEBUG:quickstart.Server:Remaining service time for job 0: 3.5509846975085804 time units\n"
       ]
      },
      {
       "output_type": "stream",
       "stream": "stderr",
       "text": [
        "INFO:quickstart.Observer:Job 0 arrives at time 0.1652953524349517\n"
       ]
      },
      {
       "output_type": "stream",
       "stream": "stderr",
       "text": [
        "DEBUG:quickstart.Source:Next arrival in 1.0903431091204843 time units\n"
       ]
      },
      {
       "output_type": "stream",
       "stream": "stderr",
       "text": [
        "WARNING:devs.devs.AtomicBase:ta not implemented, return devs.infinity\n"
       ]
      },
      {
       "output_type": "stream",
       "stream": "stderr",
       "text": [
        "INFO:quickstart.Source:Generate job 1\n"
       ]
      },
      {
       "output_type": "stream",
       "stream": "stderr",
       "text": [
        "INFO:quickstart.Server:New job 1 arrives\n"
       ]
      },
      {
       "output_type": "stream",
       "stream": "stderr",
       "text": [
        "DEBUG:quickstart.Server:Server busy, enqueueing job 1\n"
       ]
      },
      {
       "output_type": "stream",
       "stream": "stderr",
       "text": [
        "DEBUG:quickstart.Server:Remaining service time for job 0: 2.4606415883880963 time units\n"
       ]
      },
      {
       "output_type": "stream",
       "stream": "stderr",
       "text": [
        "INFO:quickstart.Observer:Job 1 arrives at time 1.255638461555436\n"
       ]
      },
      {
       "output_type": "stream",
       "stream": "stderr",
       "text": [
        "DEBUG:quickstart.Source:Next arrival in 2.3049818738267307 time units\n"
       ]
      },
      {
       "output_type": "stream",
       "stream": "stderr",
       "text": [
        "WARNING:devs.devs.AtomicBase:ta not implemented, return devs.infinity\n"
       ]
      },
      {
       "output_type": "stream",
       "stream": "stderr",
       "text": [
        "INFO:quickstart.Source:Generate job 2\n"
       ]
      },
      {
       "output_type": "stream",
       "stream": "stderr",
       "text": [
        "INFO:quickstart.Server:New job 2 arrives\n"
       ]
      },
      {
       "output_type": "stream",
       "stream": "stderr",
       "text": [
        "DEBUG:quickstart.Server:Server busy, enqueueing job 2\n"
       ]
      },
      {
       "output_type": "stream",
       "stream": "stderr",
       "text": [
        "DEBUG:quickstart.Server:Remaining service time for job 0: 0.15565971456136563 time units\n"
       ]
      },
      {
       "output_type": "stream",
       "stream": "stderr",
       "text": [
        "INFO:quickstart.Observer:Job 2 arrives at time 3.5606203353821666\n"
       ]
      },
      {
       "output_type": "stream",
       "stream": "stderr",
       "text": [
        "DEBUG:quickstart.Source:Next arrival in 2.937090534560785 time units\n"
       ]
      },
      {
       "output_type": "stream",
       "stream": "stderr",
       "text": [
        "WARNING:devs.devs.AtomicBase:ta not implemented, return devs.infinity\n"
       ]
      },
      {
       "output_type": "stream",
       "stream": "stderr",
       "text": [
        "INFO:quickstart.Server:Finished processing job 0\n"
       ]
      },
      {
       "output_type": "stream",
       "stream": "stderr",
       "text": [
        "INFO:quickstart.Server:Start processing job 1 with service time 0.9782561195217124\n"
       ]
      },
      {
       "output_type": "stream",
       "stream": "stderr",
       "text": [
        "INFO:quickstart.Observer:Job 0 departs at time 3.7162800499435322\n"
       ]
      },
      {
       "output_type": "stream",
       "stream": "stderr",
       "text": [
        "WARNING:devs.devs.AtomicBase:ta not implemented, return devs.infinity\n"
       ]
      },
      {
       "output_type": "stream",
       "stream": "stderr",
       "text": [
        "INFO:quickstart.Server:Finished processing job 1\n"
       ]
      },
      {
       "output_type": "stream",
       "stream": "stderr",
       "text": [
        "INFO:quickstart.Server:Start processing job 2 with service time 0.404069818122655\n"
       ]
      },
      {
       "output_type": "stream",
       "stream": "stderr",
       "text": [
        "INFO:quickstart.Observer:Job 1 departs at time 4.694536169465245\n"
       ]
      },
      {
       "output_type": "stream",
       "stream": "stderr",
       "text": [
        "WARNING:devs.devs.AtomicBase:ta not implemented, return devs.infinity\n"
       ]
      }
     ],
     "prompt_number": 8
    },
    {
     "cell_type": "code",
     "collapsed": false,
     "input": [
      "observer.arrivals, observer.departures"
     ],
     "language": "python",
     "metadata": {},
     "outputs": [
      {
       "metadata": {},
       "output_type": "pyout",
       "prompt_number": 9,
       "text": [
        "([0.1652953524349517, 1.255638461555436, 3.5606203353821666],\n",
        " [3.7162800499435322, 4.694536169465245])"
       ]
      }
     ],
     "prompt_number": 9
    },
    {
     "cell_type": "code",
     "collapsed": false,
     "input": [
      "logger.setLevel(logging.ERROR)\n",
      "logging.getLogger('devs').setLevel(logging.ERROR)"
     ],
     "language": "python",
     "metadata": {},
     "outputs": [],
     "prompt_number": 10
    },
    {
     "cell_type": "code",
     "collapsed": false,
     "input": [
      "simulator.execute_until(100000.0)"
     ],
     "language": "python",
     "metadata": {},
     "outputs": [],
     "prompt_number": 11
    },
    {
     "cell_type": "code",
     "collapsed": false,
     "input": [
      "len(observer.arrivals), len(observer.departures), len(server.queue)"
     ],
     "language": "python",
     "metadata": {},
     "outputs": [
      {
       "metadata": {},
       "output_type": "pyout",
       "prompt_number": 12,
       "text": [
        "(100015, 99697, 317)"
       ]
      }
     ],
     "prompt_number": 12
    }
   ],
   "metadata": {}
  }
 ]
}